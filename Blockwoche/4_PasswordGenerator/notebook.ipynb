{
 "cells": [
  {
   "cell_type": "markdown",
   "metadata": {},
   "source": [
    "# Aufgabenstellung\n",
    "\n",
    "Erstelle ein Python Programm, welches eine Funktion bietet, die ein zufälliges Passwort bestehend aus Buchstaben, Zahlen und Sonderzeichen generiert und als Parameter die Länge das Passworts akzeptiert. "
   ]
  },
  {
   "cell_type": "code",
   "execution_count": 109,
   "metadata": {},
   "outputs": [
    {
     "name": "stdout",
     "output_type": "stream",
     "text": [
      "1wxWdde7~\n"
     ]
    }
   ],
   "source": [
    "import random\n",
    "import string\n",
    "\n",
    "#A function do shuffle all the characters of a string\n",
    "def shuffle(string):\n",
    "  tempList = list(string)\n",
    "  random.shuffle(tempList)\n",
    "  return ''.join(tempList)\n",
    "\n",
    "#A function to generate X amount of random characters\n",
    "def generate_password(length):\n",
    "    password = \"\"\n",
    "    characters = string.ascii_letters + string.digits + string.punctuation\n",
    "    for i in range(length):\n",
    "       new_char = random.choice(characters)\n",
    "       password = password + new_char\n",
    "    return shuffle(password)\n",
    " \n",
    "\n",
    "\n",
    "password = generate_password(9)\n",
    "\n",
    "print(password)"
   ]
  }
 ],
 "metadata": {
  "kernelspec": {
   "display_name": "monitoring",
   "language": "python",
   "name": "python3"
  },
  "language_info": {
   "codemirror_mode": {
    "name": "ipython",
    "version": 3
   },
   "file_extension": ".py",
   "mimetype": "text/x-python",
   "name": "python",
   "nbconvert_exporter": "python",
   "pygments_lexer": "ipython3",
   "version": "3.11.5"
  }
 },
 "nbformat": 4,
 "nbformat_minor": 2
}
