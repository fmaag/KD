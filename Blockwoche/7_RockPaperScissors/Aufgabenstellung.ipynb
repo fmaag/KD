{
 "cells": [
  {
   "cell_type": "markdown",
   "metadata": {},
   "source": [
    "# Aufgabenstellung\n",
    "\n",
    "übernommen aus: https://hackr.io/blog/python-projects Nr. 3\n",
    "\n",
    "This Rock Paper Scissors program simulates the universally popular game with functions and conditional statements. So, what better way to get these critical concepts under your belt? You'll also be using the Python list to store a collection of valid responses, which you can then use to create an elegant and Pythonic conditional statement.\n",
    "\n",
    "As one of many Python coding projects that imports additional libraries, this program uses the standard library’s random, os, and re modules.\n",
    "\n",
    "Take a look at the code below, and you’ll see that this Python project idea asks the user to make the first move by passing in a character to represent rock, paper, or scissors. After evaluating the input string, the conditional logic checks for a winner."
   ]
  }
 ],
 "metadata": {
  "language_info": {
   "name": "python"
  }
 },
 "nbformat": 4,
 "nbformat_minor": 2
}
