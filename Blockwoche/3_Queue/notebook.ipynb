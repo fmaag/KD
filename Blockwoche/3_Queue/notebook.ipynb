{
 "cells": [
  {
   "cell_type": "markdown",
   "metadata": {},
   "source": [
    "# Aufgabenstellung\n",
    "\n",
    "übernommen aus: https://hackr.io/blog/python-projects Nr. 16\n",
    "\n",
    "This Python project creates a new class to implement a Queue. This is a common data structure in computer science when you need to handle First-In-First-Out (FIFO) scenarios, such as message queues, CPU tasks, etc.\n",
    "\n",
    "The code is straightforward and offers some more practice with object-oriented programming. Test out the queue to get your head around how it works, and then you’ll be ready to use this data structure in your other projects."
   ]
  },
  {
   "cell_type": "code",
   "execution_count": 1,
   "metadata": {},
   "outputs": [
    {
     "name": "stdout",
     "output_type": "stream",
     "text": [
      "True\n",
      "Queue object: data=['First', 'Second']\n",
      "First\n",
      "Queue object: data=['Second']\n",
      "1\n",
      "Second\n"
     ]
    }
   ],
   "source": [
    "class Queue:\n",
    "\n",
    "   def __init__(self):\n",
    "       self.items = []\n",
    "\n",
    "   def __repr__(self):\n",
    "       return f'Queue object: data={self.items}'\n",
    "\n",
    "   def is_empty(self):\n",
    "       return not self.items\n",
    "\n",
    "   def enqueue(self, item):\n",
    "       self.items.append(item)\n",
    "\n",
    "   def dequeue(self):\n",
    "       return self.items.pop(0)\n",
    "\n",
    "   def size(self):\n",
    "       return len(self.items)\n",
    "\n",
    "   def peek(self):\n",
    "       return self.items[0]\n",
    "\n",
    "\n",
    "if __name__ == '__main__':\n",
    "   q = Queue() # Queue creation\n",
    "   print(q.is_empty()) # Queue empty on start\n",
    "   q.enqueue('First') # Add two items in the queue\n",
    "   q.enqueue('Second')\n",
    "   print(q) # Current items in queue\n",
    "   print(q.dequeue()) # Remove first item from queue\n",
    "   print(q) # Only second item left in queue\n",
    "   print(q.size()) # Total amount of items in queue\n",
    "   print(q.peek()) # Next item in line"
   ]
  }
 ],
 "metadata": {
  "kernelspec": {
   "display_name": "monitoring",
   "language": "python",
   "name": "python3"
  },
  "language_info": {
   "codemirror_mode": {
    "name": "ipython",
    "version": 3
   },
   "file_extension": ".py",
   "mimetype": "text/x-python",
   "name": "python",
   "nbconvert_exporter": "python",
   "pygments_lexer": "ipython3",
   "version": "3.11.5"
  }
 },
 "nbformat": 4,
 "nbformat_minor": 2
}
