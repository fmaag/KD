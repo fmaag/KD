{
 "cells": [
  {
   "cell_type": "markdown",
   "metadata": {},
   "source": [
    "# Aufgabenstellung\n",
    "\n",
    "übernommen aus: https://hackr.io/blog/python-projects Nr. 8 \n",
    "\n",
    "Tic-Tac-Toe is a classic two-player game that involves a nine-square grid. Each player alternately marks their space with an O or an X, and whichever player manages to mark three Os or Xs diagonally, horizontally, or vertically wins. Each player must also block their opponent while attempting to make their chain.\n",
    "\n",
    "This is a really fun Python project that’s unique for beginners, as it uses object-oriented programming. \n",
    "\n",
    "This is one of the most essential Python concepts to learn, and in this project, you will create a new class called TicTacToe. We’ll then use this to represent the game's features via the class attributes and methods.\n",
    "\n",
    "Carefully study these methods to see how we can use object-oriented programming to neatly package the various behaviors needed to simulate this game.\n",
    "\n",
    "Some new aspects of this Python project idea for beginners include nested loops to check the grid's columns, rows, and diagonals for a winning state, along with the Python set data type, which is used to contain unique values. This program also uses the Python random module to select a random player to start the game, but this is more familiar to you now."
   ]
  }
 ],
 "metadata": {
  "language_info": {
   "name": "python"
  }
 },
 "nbformat": 4,
 "nbformat_minor": 2
}
