{
 "cells": [
  {
   "cell_type": "code",
   "execution_count": 1,
   "metadata": {},
   "outputs": [],
   "source": [
    "## Matrix multiplikation\n",
    "import numpy as np"
   ]
  },
  {
   "cell_type": "code",
   "execution_count": 2,
   "metadata": {},
   "outputs": [
    {
     "name": "stdout",
     "output_type": "stream",
     "text": [
      "---- Matrix 1 ----\n",
      "[[1 2]\n",
      " [3 4]]\n",
      "---- Matrix 2 ----\n",
      "[[5 6]\n",
      " [7 8]]\n",
      "---- Matrix 3 ----\n",
      "[[19 22]\n",
      " [43 50]]\n"
     ]
    }
   ],
   "source": [
    "#Create a matrix with 2 rows and 2 columns\n",
    "matrix1 = np.array([[1,2],[3,4]])\n",
    "matrix2 = np.array([[5,6],[7,8]])\n",
    "\n",
    "#Multiply the two matrices\n",
    "matrix3 = np.dot(matrix1, matrix2)\n",
    "\n",
    "#Print the result\n",
    "print(\"---- Matrix 1 ----\")\n",
    "print(matrix1)\n",
    "print(\"---- Matrix 2 ----\")\n",
    "print(matrix2)\n",
    "print(\"---- Matrix 3 ----\")\n",
    "print(matrix3)"
   ]
  },
  {
   "cell_type": "code",
   "execution_count": 3,
   "metadata": {},
   "outputs": [],
   "source": [
    "# Define the sigmoid function\n",
    "def sigmoid(x):\n",
    "    return 1/(1+np.exp(-x))"
   ]
  },
  {
   "cell_type": "code",
   "execution_count": 4,
   "metadata": {},
   "outputs": [],
   "source": [
    "# Initial weights\n",
    "w1_1 = 0.9\n",
    "w1_2 = 0.2\n",
    "w2_1 = 0.3\n",
    "w2_2 = 0.8"
   ]
  },
  {
   "cell_type": "code",
   "execution_count": 5,
   "metadata": {},
   "outputs": [
    {
     "name": "stdout",
     "output_type": "stream",
     "text": [
      "---- Matrix W ----\n",
      "[[0.9 0.3]\n",
      " [0.2 0.8]]\n",
      "---- Matrix I ----\n",
      "[1.  0.5]\n",
      "---- Matrix X ----\n",
      "[0.7407749  0.64565631]\n"
     ]
    }
   ],
   "source": [
    "# Create a matrix with 2 rows and 2 columns\n",
    "matrix_W = np.array([\n",
    "    [w1_1, w2_1],\n",
    "    [w1_2,w2_2]\n",
    "    ])\n",
    "matrix_I = np.array([1,0.5])\n",
    "# Calculare W * I\n",
    "matrix_X = np.dot(matrix_W, matrix_I)\n",
    "\n",
    "# Multiply all elements with the sigmoid function\n",
    "matrix_X = sigmoid(matrix_X)\n",
    "\n",
    "# Output\n",
    "print(\"---- Matrix W ----\")\n",
    "print(matrix_W)\n",
    "print(\"---- Matrix I ----\")\n",
    "print(matrix_I)\n",
    "print(\"---- Matrix X ----\")\n",
    "print(matrix_X)"
   ]
  },
  {
   "cell_type": "code",
   "execution_count": 6,
   "metadata": {},
   "outputs": [
    {
     "name": "stdout",
     "output_type": "stream",
     "text": [
      "---- Matrix X S1 ----\n",
      "[1.16 0.42 0.62]\n",
      "---- Matrix X S1 Sigmoid ----\n",
      "[0.76133271 0.60348325 0.65021855]\n"
     ]
    }
   ],
   "source": [
    "# Dreischichtiges Netz\n",
    "matrix_I = np.array([0.9,0.1,0.8])\n",
    "matrix_W = np.array([[0.9,0.3,0.4],\n",
    "                    [0.2,0.8,0.2],\n",
    "                    [0.1,0.5,0.6]])\n",
    "matrix_X_S1 = np.dot(matrix_W, matrix_I)\n",
    "print(\"---- Matrix X S1 ----\")\n",
    "print(matrix_X_S1)\n",
    "matrix_X_S1 = sigmoid(matrix_X_S1)\n",
    "print(\"---- Matrix X S1 Sigmoid ----\")\n",
    "print(matrix_X_S1)"
   ]
  },
  {
   "cell_type": "code",
   "execution_count": 7,
   "metadata": {},
   "outputs": [
    {
     "name": "stdout",
     "output_type": "stream",
     "text": [
      "---- Matrix X S2 ----\n",
      "[0.97594736 0.88858496 1.25461119]\n",
      "---- Matrix X S2 Sigmoid ----\n",
      "[0.72630335 0.70859807 0.77809706]\n"
     ]
    }
   ],
   "source": [
    "# Gewichte von Schicht 2 zu Schicht 3\n",
    "# [[W11,W12,W13]\n",
    "# [W21,W22,W23]\n",
    "# [W31,W32,W33]]\n",
    "\n",
    "matrix_W_S2 = np.array([[0.3,0.7,0.5],\n",
    "                        [0.6,0.5,0.2],\n",
    "                        [0.8,0.1,0.9]])\n",
    "matrix_X_S2 = np.dot(matrix_W_S2, matrix_X_S1)\n",
    "print(\"---- Matrix X S2 ----\")\n",
    "print(matrix_X_S2)\n",
    "matrix_X_S2 = sigmoid(matrix_X_S2)\n",
    "print(\"---- Matrix X S2 Sigmoid ----\")\n",
    "print(matrix_X_S2)"
   ]
  },
  {
   "cell_type": "code",
   "execution_count": 8,
   "metadata": {},
   "outputs": [
    {
     "name": "stdout",
     "output_type": "stream",
     "text": [
      "[[0.3 0.7 0.5]\n",
      " [0.6 0.5 0.2]\n",
      " [0.8 0.1 0.9]]\n",
      "[[0.3 0.6 0.8]\n",
      " [0.7 0.5 0.1]\n",
      " [0.5 0.2 0.9]]\n"
     ]
    }
   ],
   "source": [
    "## Backpropagation\n",
    "print(matrix_W_S2)\n",
    "print(matrix_W_S2.T)"
   ]
  }
 ],
 "metadata": {
  "kernelspec": {
   "display_name": "py38",
   "language": "python",
   "name": "python3"
  },
  "language_info": {
   "codemirror_mode": {
    "name": "ipython",
    "version": 3
   },
   "file_extension": ".py",
   "mimetype": "text/x-python",
   "name": "python",
   "nbconvert_exporter": "python",
   "pygments_lexer": "ipython3",
   "version": "3.11.5"
  },
  "orig_nbformat": 4,
  "vscode": {
   "interpreter": {
    "hash": "9a8fd58a13c34d084174465b0c7f7bfe65b648af8359d2f0225d3f6411b611b9"
   }
  }
 },
 "nbformat": 4,
 "nbformat_minor": 2
}
